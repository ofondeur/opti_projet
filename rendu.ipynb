{
 "cells": [
  {
   "cell_type": "markdown",
   "metadata": {},
   "source": [
    "# Etude du problème d'optimisation"
   ]
  },
  {
   "cell_type": "markdown",
   "metadata": {},
   "source": [
    "**Question 1.1**  \n",
    "\n",
    "La définition de l'énergie auto-consommée (3) est interprétable de la manière suivante :  \n",
    "\n",
    "$E^{PV}$ représente l'énergie produite par les panneaux photovoltaïques et ($w_{i}$ + $P_{i}\\Delta$t) la somme des consommations non-pilotables de la maison et de l'énergie dépensée pour chauffer l'eau du ballon. Donc pour chaque i (chaque intervalle de temps) nous pouvons prendre le minimum des deux variables car nous avons trois cas :  \n",
    "- Si $w_{i}$ + $P_{i}\\Delta$ t > $E^{PV}_{i}$\n",
    "Alors la totalité de l'énergie photovoltaïque a été consommée, on la comptabilise entièrement pour l'intervalle \"i\" concerné.\n",
    "\n",
    "- Si $w_{i}$ + $P_{i}\\Delta$ t < $E^{PV}_{i}$\n",
    "Alors nous n'avons pas consommé la totalité de l'énergie photovoltaïque produite et le surplus de production a été revendu. Donc nous pouvons comptabiliser le terme minimal ($w_{i}$ + $P_{i}\\Delta$ t) qui est égal à la consommation d'énergie photovoltaïque.\n",
    "\n",
    "- Si $w_{i}$ + $P_{i}\\Delta$ t = $E^{PV}_{i}$  \n",
    "Alors peu importe le terme que nous ajoutons à la somme.  \n",
    "  \n",
    "La fonction min{$E^{PV}_{i}$, $w_{i}$ + $P_{i}\\Delta$ t} revient à chercher :  \n",
    "$E^{PV}_{i}$ < $w_{i}$ + $P_{i}\\Delta$ t <=> $E^{PV}_{i}$ - $w_{i}$ < $P_{i}\\Delta$ t  \n",
    "En posant donc $Ê_{i}$ = $E^{PV}_{i}$ - $w_{i}$  \n",
    "On remarque que les fonctions min{$E^{PV}_{i}$, $w_{i} + $P_{i}\\Delta$ t} et min{$Ê_{i}$, $P_{i}\\Delta$ t} sont équivalentes.  \n",
    "\n",
    "La difficulté que comporte ces deux coûts dans le cadre d'un problème d'optimisation est que ce sont des fonctions **discontinues**.\n",
    "\n",
    "\n"
   ]
  },
  {
   "cell_type": "markdown",
   "metadata": {},
   "source": [
    "**Question 1.2**  \n",
    "\n",
    "Supposons que $Ê_i < P_i \\Delta t$ par symétrie (h est symétrique en $Ê_i$ et $P_i \\Delta t$). \n",
    "\n",
    "On a donc $h(Ê_i, P_i \\Delta t) = \\frac{Ê_i + P_i \\Delta te^{- \\alpha (P_i\\Delta t -Ê_i)}}{1+e^{- \\alpha (P_i\\Delta t-Ê_i)}}$.\n",
    "\n",
    "Or $ \\alpha (P_i \\Delta t -Ê_i) >>1$ donc $e^{- \\alpha (P_i\\Delta t -Ê_i)} <<1$.\n",
    "\n",
    "Par développement limité à l'ordre 0 exact de la fonction $\\frac{1}{1+x}$ et $1+x$, on a donc: $h(Ê_i, P_i \\Delta t) = (Ê_i +0)*(1+0) = Ê_i$. Par symétrie, on a donc qu'à l'ordre 0 :\n",
    "$$ h(Ê_i, P_i \\Delta t) = min(Ê_i, P_i \\Delta t)$$\n",
    "\n",
    "L'avantage de la fonction h est qu'elle est $C^1$ et explicite, donc beaucoup plus facile à manipuler que la fonction minimum."
   ]
  },
  {
   "cell_type": "markdown",
   "metadata": {},
   "source": [
    "**Question 1.3**  \n",
    "  \n",
    "\n",
    "$T_{i+1}$ = $e^{-k \\Delta t} * T_{i} + \\frac{1 - e^{-k \\Delta t}}{k}$ C(-$Q_{i} + P_{i}$)\n",
    "\n",
    "En développant le terme $e^{-k \\Delta t}$ qui devient $1-k\\Delta t$ au premier ordre, on obtient l'approximation suivante pour $T_{i+1}$ :  \n",
    "\n",
    "  \n",
    "$T_{i+1}$ ~ $(1-k\\Delta t)$ * $T_{i}$ + $\\Delta$ t * C(-$Q_{i} + P_{i}$)   \n",
    " \n",
    "Le terme $(1-k\\Delta t$) * $T_{i}$ se traduit par le fait que l'on perd légèrement en température si rien n'est fait au cours du temps.  \n",
    "Le terme $\\Delta$ t * C(-$Q_{i} + P_{i}$) représente le fait que l'on gagne ou l'on perd en température selon si l'on a plus de puissance soustraite que de puissance de chauffage ou inversement.  \n",
    "  \n",
    "\n",
    "On peut, par une analyse dimensionnelle, souligner le fait que la constante C est homogène à une résistance thermique.\n"
   ]
  },
  {
   "cell_type": "markdown",
   "metadata": {},
   "source": [
    "**Question 1.4**\n",
    "\n",
    "On veut maximiser (comme prouvé en 1.2) $\\sum_{i=1}^{N} h(Ê_i, P_i \\Delta t)$, donc minimiser $-\\sum_{i=1}^{N} h(Ê_i, P_i \\Delta t)$. La seule variable sur laquelle on a un contrôle est la puissance $P$, tous les autres facteurs (production, consommation etc) sont imposés. Donc il y a une unique variable de décision (n=1), qui est $P$. On définit donc $f(P)=-\\sum_{i=1}^{N} h(Ê_i, P_i \\Delta t)$, qui est la fonction à minimiser. La contrainte égalité que l'on a est la relation entre température et puissance, on peut donc définir pour i entre 0 et N-1: $c_{E,i}(P)= I_{i+1} - I_i e^{-k \\Delta t}- \\frac {1-e^{-k \\Delta t}}{k} C(-Q_i+P_i)$ . \n",
    "\n",
    "Les contraintes inégalités qu'on a sont $c_{I,i}(P) = T_i-T_{sat}$, $c'_{I,i}(P) = P_i-P_{M}$, $c''_{I,i}(P) = -T_{i}$, $c'''_{I,i}(P) = -P_{i}$ liées aux contraintes de sécurité."
   ]
  },
  {
   "cell_type": "code",
   "execution_count": null,
   "metadata": {},
   "outputs": [],
   "source": [
    "import numpy as np\n",
    "import matplotlib.pyplot as plt\n",
    "import casadi as cs"
   ]
  },
  {
   "cell_type": "code",
   "execution_count": 14,
   "metadata": {},
   "outputs": [
    {
     "name": "stdout",
     "output_type": "stream",
     "text": [
      "This is Ipopt version 3.14.11, running with linear solver MUMPS 5.4.1.\n",
      "\n",
      "Number of nonzeros in equality constraint Jacobian...:      157\n",
      "Number of nonzeros in inequality constraint Jacobian.:      212\n",
      "Number of nonzeros in Lagrangian Hessian.............:       52\n",
      "\n",
      "Total number of variables............................:      106\n",
      "                     variables with only lower bounds:        0\n",
      "                variables with lower and upper bounds:        0\n",
      "                     variables with only upper bounds:        0\n",
      "Total number of equality constraints.................:       53\n",
      "Total number of inequality constraints...............:      212\n",
      "        inequality constraints with only lower bounds:        0\n",
      "   inequality constraints with lower and upper bounds:        0\n",
      "        inequality constraints with only upper bounds:      212\n",
      "\n",
      "iter    objective    inf_pr   inf_du lg(mu)  ||d||  lg(rg) alpha_du alpha_pr  ls\n",
      "   0 -1.1365178e-02 7.07e+01 3.50e-03  -1.0 0.00e+00    -  0.00e+00 0.00e+00   0\n",
      "   1  3.2308347e-02 6.43e+01 5.76e+00  -1.0 2.71e+01    -  1.34e-02 9.11e-02h  1\n",
      "   2  3.2554572e-02 6.39e+01 1.63e+02  -1.0 3.17e+01    -  3.85e-01 5.12e-03f  1\n",
      "   3  4.1537442e-03 5.44e+01 1.39e+02  -1.0 3.20e+01    -  1.04e-01 1.50e-01h  1\n",
      "   4 -5.2846392e-02 3.82e+01 9.23e+01  -1.0 2.98e+01    -  4.61e-01 2.97e-01h  1\n",
      "   5 -2.2321646e-01 1.42e-14 2.57e+01  -1.0 2.11e+01    -  7.08e-01 1.00e+00f  1\n",
      "   6 -2.4353572e-01 1.42e-14 1.17e+00  -1.0 1.17e+00    -  9.87e-01 1.00e+00f  1\n",
      "   7 -5.8592175e-01 7.11e-15 7.64e-02  -1.0 8.50e+01    -  1.00e+00 8.91e-01f  1\n",
      "   8 -5.9595412e-01 7.11e-15 2.57e-01  -2.5 4.02e+01    -  9.14e-01 1.00e+00f  1\n",
      "   9 -7.2558381e-01 7.11e-15 1.13e-01  -2.5 3.51e+02    -  5.26e-01 1.00e+00f  1\n",
      "iter    objective    inf_pr   inf_du lg(mu)  ||d||  lg(rg) alpha_du alpha_pr  ls\n",
      "  10 -8.7107872e-01 7.11e-15 1.31e-01  -2.5 4.31e+02    -  6.15e-01 1.00e+00f  1\n",
      "  11 -8.9903131e-01 1.42e-14 1.03e-01  -2.5 3.91e+02    -  1.00e+00 5.00e-01f  2\n",
      "  12 -9.3164480e-01 7.11e-15 1.56e-02  -2.5 4.05e+02    -  1.00e+00 1.00e+00f  1\n",
      "  13 -1.0631256e+00 7.11e-15 6.73e-02  -3.8 2.53e+01    -  5.30e-01 1.00e+00f  1\n",
      "  14 -1.0823154e+00 7.11e-15 1.40e-02  -3.8 2.76e+00  -4.0 1.00e+00 1.00e+00f  1\n",
      "  15 -1.0978325e+00 7.11e-15 1.06e-02  -3.8 1.78e+01    -  2.53e-01 2.57e-01f  1\n",
      "  16 -1.1047103e+00 7.11e-15 5.53e-02  -3.8 2.37e+01    -  1.00e+00 1.67e-01f  1\n",
      "  17 -1.1164237e+00 1.42e-14 7.70e-03  -3.8 2.10e+00    -  9.51e-01 1.00e+00f  1\n",
      "  18 -1.1170725e+00 7.11e-15 3.37e-02  -3.8 2.52e+00    -  1.00e+00 1.93e-01f  2\n",
      "  19 -1.1174810e+00 7.11e-15 1.12e-02  -3.8 1.10e+00    -  1.00e+00 1.00e+00f  1\n",
      "iter    objective    inf_pr   inf_du lg(mu)  ||d||  lg(rg) alpha_du alpha_pr  ls\n",
      "  20 -1.1173762e+00 7.11e-15 2.04e-03  -3.8 2.77e-01    -  1.00e+00 1.00e+00f  1\n",
      "  21 -1.1173135e+00 7.11e-15 1.98e-04  -3.8 9.55e-02    -  1.00e+00 1.00e+00f  1\n",
      "  22 -1.1295568e+00 7.11e-15 1.69e-02  -5.7 2.07e+00    -  9.30e-01 1.00e+00f  1\n",
      "  23 -1.1298411e+00 7.11e-15 2.28e-03  -5.7 3.16e-01    -  1.00e+00 1.00e+00f  1\n",
      "  24 -1.1298512e+00 7.11e-15 6.09e-05  -5.7 5.08e-02    -  1.00e+00 1.00e+00f  1\n",
      "  25 -1.1298513e+00 7.11e-15 4.94e-08  -5.7 1.43e-03    -  1.00e+00 1.00e+00h  1\n",
      "  26 -1.1300096e+00 7.11e-15 9.44e-07  -8.6 2.60e-02    -  1.00e+00 1.00e+00f  1\n",
      "  27 -1.1300097e+00 7.11e-15 2.63e-12  -8.6 4.51e-05    -  1.00e+00 1.00e+00h  1\n",
      "\n",
      "Number of Iterations....: 27\n",
      "\n",
      "                                   (scaled)                 (unscaled)\n",
      "Objective...............:  -1.1300096877019949e+00   -1.1300096877019949e+00\n",
      "Dual infeasibility......:   2.6273150321998173e-12    2.6273150321998173e-12\n",
      "Constraint violation....:   7.1054273576010019e-15    7.1054273576010019e-15\n",
      "Variable bound violation:   0.0000000000000000e+00    0.0000000000000000e+00\n",
      "Complementarity.........:   2.7428608472537716e-09    2.7428608472537716e-09\n",
      "Overall NLP error.......:   2.7428608472537716e-09    2.7428608472537716e-09\n",
      "\n",
      "\n",
      "Number of objective function evaluations             = 34\n",
      "Number of objective gradient evaluations             = 28\n",
      "Number of equality constraint evaluations            = 34\n",
      "Number of inequality constraint evaluations          = 34\n",
      "Number of equality constraint Jacobian evaluations   = 28\n",
      "Number of inequality constraint Jacobian evaluations = 28\n",
      "Number of Lagrangian Hessian evaluations             = 27\n",
      "Total seconds in IPOPT                               = 0.075\n",
      "\n",
      "EXIT: Optimal Solution Found.\n",
      "      solver  :   t_proc      (avg)   t_wall      (avg)    n_eval\n",
      "       nlp_f  |   1.05ms ( 30.88us)   1.05ms ( 30.97us)        34\n",
      "       nlp_g  |   2.00ms ( 58.79us)   1.93ms ( 56.81us)        34\n",
      "  nlp_grad_f  |   1.67ms ( 57.69us)   1.69ms ( 58.24us)        29\n",
      "  nlp_hess_l  |   3.43ms (127.04us)   3.53ms (130.91us)        27\n",
      "   nlp_jac_g  |   3.22ms (110.90us)   3.78ms (130.23us)        29\n",
      "       total  |  71.02ms ( 71.02ms)  75.04ms ( 75.04ms)         1\n"
     ]
    },
    {
     "data": {
      "text/plain": [
       "<matplotlib.legend.Legend at 0x129569210>"
      ]
     },
     "execution_count": 14,
     "metadata": {},
     "output_type": "execute_result"
    },
    {
     "data": {
      "image/png": "[encoded data removed]",
      "text/plain": [
       "<Figure size 640x480 with 1 Axes>"
      ]
     },
     "metadata": {},
     "output_type": "display_data"
    }
   ],
   "source": [
    "\n",
    "\n",
    "t0,tf=6,19\n",
    "alpha=100\n",
    "k=0.2\n",
    "Tsat,Tin=70,50\n",
    "C=100\n",
    "Pm=3000\n",
    "pas=0.25\n",
    "N=int(1+(tf-t0)/pas)\n",
    "Q=np.zeros((N,1))\n",
    "Q[24]=3\n",
    "Epv=np.array([2*np.exp(-((t-13)**2)/9) for t in np.arange(t0,tf+pas,pas)])\n",
    "T=np.zeros((N,1))\n",
    "\n",
    "def h(Ei, Pi_fois_pas):\n",
    "    return((Ei*np.exp(-alpha*Ei)+Pi_fois_pas*np.exp(-alpha*Pi_fois_pas))/(np.exp(-alpha*Ei)+np.exp(-alpha*Pi_fois_pas)))\n",
    "\n",
    "opti_cons = cs.Opti()\n",
    "P = opti_cons.variable(N)\n",
    "T = opti_cons.variable(N)\n",
    "opti_cons.subject_to(T[0] == Tin)\n",
    "f = 0\n",
    "for i in range(N-1):\n",
    "    f += -h(Epv[i],P[i]*pas)\n",
    "\n",
    "opti_cons.minimize(f)\n",
    "for i in range(N-1):\n",
    "    opti_cons.subject_to(T[i+1]==T[i]*np.exp(-k*pas)+((1-np.exp(-k*pas))/k)*C*(Q[i]-P[i]))\n",
    "\n",
    "for i in range (N):\n",
    "    opti_cons.subject_to(P[i]-Pm<=0)\n",
    "    opti_cons.subject_to(-P[i]<=0)\n",
    "    opti_cons.subject_to(T[i]-Tsat<=0)\n",
    "    opti_cons.subject_to(-T[i]<=0)\n",
    "\n",
    "#opti_cons.subject_to(T[N-1] == Tsat)\n",
    "\n",
    "opti_cons.set_initial(T,Tin)\n",
    "opti_cons.solver('ipopt')\n",
    "sol = opti_cons.solve()\n",
    "T_values = sol.value(T)\n",
    "\n",
    "# Créer un tableau de temps\n",
    "temps = np.arange(t0, tf+pas, pas)\n",
    "\n",
    "# Tracer l'évolution temporelle de T\n",
    "plt.plot(temps, T_values, label='Température $T$')\n",
    "\n",
    "# Tracer les bornes 0 et Tsat\n",
    "plt.axhline(0, color='r', linestyle='--', label='Borne inférieure')\n",
    "plt.axhline(Tsat, color='g', linestyle='--', label='Borne supérieure')\n",
    "\n",
    "# Étiquettes et légendes\n",
    "plt.xlabel('Temps (h)')\n",
    "plt.ylabel('Température (celcius)')\n",
    "plt.title('Évolution temporelle de la température $T$ avec bornes')\n",
    "plt.legend()\n"
   ]
  }
 ],
 "metadata": {
  "kernelspec": {
   "display_name": "base",
   "language": "python",
   "name": "python3"
  },
  "language_info": {
   "codemirror_mode": {
    "name": "ipython",
    "version": 3
   },
   "file_extension": ".py",
   "mimetype": "text/x-python",
   "name": "python",
   "nbconvert_exporter": "python",
   "pygments_lexer": "ipython3",
   "version": "3.11.4"
  }
 },
 "nbformat": 4,
 "nbformat_minor": 2
}
