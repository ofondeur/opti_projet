{
 "cells": [
  {
   "cell_type": "markdown",
   "metadata": {},
   "source": [
    "# Etude du problème d'optimisation"
   ]
  },
  {
   "cell_type": "markdown",
   "metadata": {},
   "source": [
    "Question 1.1"
   ]
  },
  {
   "cell_type": "markdown",
   "metadata": {},
   "source": [
    "Question 1.2\n",
    "\n",
    "Supposons que $Ê_i < P_i \\Delta t$ par symétrie (h est symétrique en $Ê_i$ et $P_i \\Delta t$). \n",
    "\n",
    "On a donc $h(Ê_i, P_i \\Delta t) = \\frac{Ê_i + P_i \\Delta te^{- \\alpha (P_i\\Delta t -Ê_i)}}{1+e^{- \\alpha (P_i\\Delta t-Ê_i)}}$.\n",
    "\n",
    "Or $ \\alpha (P_i \\Delta t -Ê_i) >>1$ donc $e^{- \\alpha (P_i\\Delta t -Ê_i)} <<1$.\n",
    "\n",
    "Par développement limité à l'ordre 0 exacte de la focntion $\\frac{1}{1+x}$ et $1+x$, on a donc: $h(Ê_i, P_i \\Delta t) = (Ê_i +0)*(1+0) = Ê_i$. Par symétrie, on a donc qu'à l'ordre 0 :\n",
    "$$ h(Ê_i, P_i \\Delta t) = min(Ê_i, P_i \\Delta t)$$\n",
    "\n",
    "L'avantage de la fonction h est qu'elle est $C^1$ et explicite, donc beaucoup plus facile à manipuler que la fonction minimum."
   ]
  },
  {
   "cell_type": "markdown",
   "metadata": {},
   "source": [
    "Question 1.3"
   ]
  },
  {
   "cell_type": "markdown",
   "metadata": {},
   "source": [
    "Question 1.4"
   ]
  }
 ],
 "metadata": {
  "language_info": {
   "name": "python"
  }
 },
 "nbformat": 4,
 "nbformat_minor": 2
}
